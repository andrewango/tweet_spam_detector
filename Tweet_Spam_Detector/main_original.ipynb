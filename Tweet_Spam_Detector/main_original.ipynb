{
 "cells": [
  {
   "cell_type": "markdown",
   "id": "1c34670b",
   "metadata": {},
   "source": [
    "# Import libraries"
   ]
  },
  {
   "cell_type": "code",
   "execution_count": 1,
   "id": "f56b7a97",
   "metadata": {
    "ExecuteTime": {
     "end_time": "2025-02-26T18:03:10.681050Z",
     "start_time": "2025-02-26T18:03:09.708318Z"
    }
   },
   "outputs": [],
   "source": [
    "import os\n",
    "import datetime\n",
    "import pickle\n",
    "import numpy as np\n",
    "from sklearn.model_selection import train_test_split\n",
    "from sklearn.preprocessing import MinMaxScaler\n",
    "from sklearn.svm import SVC\n",
    "import pickle\n",
    "import datetime"
   ]
  },
  {
   "cell_type": "markdown",
   "id": "2a1ab631",
   "metadata": {},
   "source": [
    "# Run script to select our tweet features and write to the tweet_features file"
   ]
  },
  {
   "cell_type": "markdown",
   "id": "49ec6ee5",
   "metadata": {},
   "source": [
    "Note that the features we are using are\n",
    "- tweet id\n",
    "- user id\n",
    "- user account age\n",
    "- favourites count\n",
    "- hashtag count\n",
    "- text length"
   ]
  },
  {
   "cell_type": "code",
   "execution_count": 2,
   "id": "d492615f",
   "metadata": {},
   "outputs": [],
   "source": [
    "import datetime\n",
    "import json\n",
    "import os\n",
    "\n",
    "from tool.TwitterOriginal import Tweet\n",
    "\n",
    "start_date = \"20201117\"\n",
    "end_date = \"20210521\"\n",
    "start_date_datetime = datetime.datetime.strptime(start_date, \"%Y%m%d\")\n",
    "end_date_datetime = datetime.datetime.strptime(end_date, \"%Y%m%d\")\n",
    "proc_date = start_date_datetime\n",
    "duration = 300  # t\n",
    "\n",
    "data_check_list = os.listdir(\"Data/\")\n",
    "data_check_dic = {i: 1 for i in data_check_list}\n",
    "\n",
    "for _ in range(duration):\n",
    "    # process the data in this date\n",
    "    proc_date_str = proc_date.strftime(\"%Y-%m-%d\")\n",
    "\n",
    "    input_data_folder_path = \"Data/\" + proc_date_str + \"/\"\n",
    "    output_data_folder_path = \"Tmp/\" + proc_date_str + \"/\"\n",
    "\n",
    "    if not proc_date_str in data_check_dic.keys():\n",
    "        proc_date = proc_date + datetime.timedelta(days=1)\n",
    "        if proc_date == end_date_datetime:\n",
    "            break\n",
    "        continue\n",
    "\n",
    "    if not os.path.exists(output_data_folder_path):\n",
    "        os.makedirs(output_data_folder_path)\n",
    "\n",
    "    output_data_file = output_data_folder_path + \"tweet_feature\"\n",
    "    with open(output_data_file, \"w\", encoding=\"utf-8\") as file_out:\n",
    "\n",
    "        for filename in os.listdir(input_data_folder_path):\n",
    "            input_data_path = input_data_folder_path + filename\n",
    "\n",
    "            with open(\n",
    "                input_data_path, \"r\", encoding=\"utf-8\", errors=\"ignore\"\n",
    "            ) as file_in:\n",
    "\n",
    "                for line in file_in:\n",
    "                    try:\n",
    "                        tweet = json.loads(line)\n",
    "                        tweet_obj = Tweet(tweet)\n",
    "                    except:\n",
    "                        print(tweet)\n",
    "                        continue\n",
    "\n",
    "                    if not tweet_obj.is_en():\n",
    "                        continue\n",
    "\n",
    "                    tweet_id = tweet_obj.get_id()\n",
    "                    user_id = tweet_obj.user.id_str\n",
    "                    feature_list = tweet_obj.get_tweet_features()\n",
    "                    file_out.write(tweet_id + \"\\t\" + user_id + \"\\t\")\n",
    "\n",
    "                    for f in feature_list:\n",
    "                        file_out.write(str(f))\n",
    "                        file_out.write(\"\\t\")\n",
    "                    file_out.write(\"\\n\")\n",
    "                    file_out.flush()\n",
    "\n",
    "    proc_date = proc_date + datetime.timedelta(days=1)\n",
    "    if proc_date == end_date_datetime:\n",
    "        break\n"
   ]
  },
  {
   "cell_type": "markdown",
   "id": "04418dfa",
   "metadata": {},
   "source": [
    "# Create our training and testing data sets"
   ]
  },
  {
   "cell_type": "code",
   "execution_count": 3,
   "id": "a76dd693",
   "metadata": {
    "ExecuteTime": {
     "end_time": "2025-02-26T18:03:11.885961Z",
     "start_time": "2025-02-26T18:03:11.866775Z"
    }
   },
   "outputs": [],
   "source": [
    "start_date = \"20201117\"\n",
    "end_date = \"20210520\"\n",
    "start_date_datetime = datetime.datetime.strptime(start_date, \"%Y%m%d\")\n",
    "end_date_datetime = datetime.datetime.strptime(end_date, \"%Y%m%d\")\n",
    "proc_date = start_date_datetime\n",
    "duration = 300  # t\n",
    "\n",
    "data_check_list = os.listdir(\"Data/\")\n",
    "data_check_dic = {i: 1 for i in data_check_list}\n",
    "\n",
    "\n",
    "dataset_X = []\n",
    "dataset_y = []\n",
    "\n",
    "for _ in range(duration):\n",
    "    # process the data in this date\n",
    "    proc_date_str = proc_date.strftime(\"%Y-%m-%d\")\n",
    "\n",
    "    input_data_tmp_path = \"Tmp/\" + proc_date_str + \"/\"\n",
    "    input_data_label_path = \"Label/\" + proc_date_str + \"/\"\n",
    "    output_data_folder_path = \"Label/All/\"\n",
    "    output_model_folder_path = \"Model/\"\n",
    "\n",
    "    if not proc_date_str in data_check_dic.keys():\n",
    "        proc_date = proc_date + datetime.timedelta(days=1)\n",
    "        if proc_date == end_date_datetime:\n",
    "            break\n",
    "        continue\n",
    "\n",
    "    if not os.path.exists(output_data_folder_path):\n",
    "        os.makedirs(output_data_folder_path)\n",
    "\n",
    "    if not os.path.exists(output_model_folder_path):\n",
    "        os.makedirs(output_model_folder_path)\n",
    "\n",
    "    input_data_feature = input_data_tmp_path + \"tweet_feature\"\n",
    "    input_data_label = input_data_label_path + \"labeled_tweets.txt\"\n",
    "\n",
    "    label_dic = {}\n",
    "\n",
    "    with open(\n",
    "        input_data_label, \"r\", encoding=\"utf-8\", errors=\"ignore\"\n",
    "    ) as file_label_in:\n",
    "        for label_line in file_label_in:\n",
    "            label_line_split = label_line.strip().split(\"\\t\")\n",
    "            label_tweet_id = label_line_split[0]\n",
    "            label_dic[label_tweet_id] = int(label_line_split[-1])\n",
    "\n",
    "    with open(\n",
    "        input_data_feature, \"r\", encoding=\"utf-8\", errors=\"ignore\"\n",
    "    ) as file_feature_in:\n",
    "        for feature_line in file_feature_in:\n",
    "            feature_line_split = feature_line.strip().split(\"\\t\")\n",
    "            feature_tweet_id = feature_line_split[0]\n",
    "            if feature_tweet_id in label_dic.keys():\n",
    "                dataset_X.append([float(i) for i in feature_line_split[2:-1]])\n",
    "                dataset_y.append(label_dic[feature_tweet_id])\n",
    "    #     print(label_dic)\n",
    "\n",
    "    proc_date = proc_date + datetime.timedelta(days=1)\n",
    "    if proc_date == end_date_datetime:\n",
    "        break"
   ]
  },
  {
   "cell_type": "markdown",
   "id": "60df5940",
   "metadata": {},
   "source": [
    "# SVM"
   ]
  },
  {
   "cell_type": "code",
   "execution_count": 28,
   "id": "b2691b23",
   "metadata": {},
   "outputs": [],
   "source": [
    "from sklearn.metrics import precision_score\n",
    "from sklearn.metrics import recall_score\n",
    "from sklearn.metrics import classification_report"
   ]
  },
  {
   "cell_type": "code",
   "execution_count": 29,
   "id": "a6706448",
   "metadata": {
    "ExecuteTime": {
     "end_time": "2025-02-26T18:03:13.737629Z",
     "start_time": "2025-02-26T18:03:13.704520Z"
    }
   },
   "outputs": [],
   "source": [
    "# Split data\n",
    "dataset_X = np.array(dataset_X)\n",
    "dataset_y = np.array(dataset_y)\n",
    "\n",
    "scaler = MinMaxScaler()\n",
    "dataset_X = scaler.fit_transform(dataset_X)\n",
    "\n",
    "data_train, data_test, labels_train, labels_test = train_test_split(\n",
    "    dataset_X, dataset_y, test_size=0.20, random_state=42\n",
    ")"
   ]
  },
  {
   "cell_type": "code",
   "execution_count": 30,
   "id": "0970180d",
   "metadata": {
    "ExecuteTime": {
     "end_time": "2025-02-26T18:03:15.720443Z",
     "start_time": "2025-02-26T18:03:15.519099Z"
    }
   },
   "outputs": [
    {
     "name": "stdout",
     "output_type": "stream",
     "text": [
      "[0 0 0 0 0 0 0 0 0 0 0 0 0 0 0 0 0 0 0 0 0 0 0 0 0 0 0 0 0 0 0 0 0 0 0 0 0\n",
      " 0 0 0 0 0 0 0 0 0 0 0 0 0 0 0 0 0 0 0 0 0 0 0 0 0 0 0 0 0 0 0 0 0 0 0 0 0\n",
      " 0 0 0 0 0 0 0 0 0 0 0 0 0 0 0 0 0 0 0]\n",
      "Training accuracy: 0.7169811320754716\n",
      "Test accuracy: 0.7634408602150538\n"
     ]
    }
   ],
   "source": [
    "# Initialize the SVM classifier\n",
    "model = SVC()\n",
    "\n",
    "# Fit the classifier to your data\n",
    "model.fit(data_train, labels_train)\n",
    "\n",
    "y_pred = model.predict(data_test)\n",
    "print(y_pred)\n",
    "\n",
    "# Calculate and print the training accuracy\n",
    "train_accuracy = model.score(data_train, labels_train)\n",
    "print(\"Training accuracy:\", train_accuracy)\n",
    "\n",
    "# Calculate test accuracy\n",
    "test_accuracy = model.score(data_test, labels_test)\n",
    "print(\"Test accuracy:\", test_accuracy)\n",
    "\n",
    "# Save the trained SVM model\n",
    "save_model_path = output_model_folder_path + \"svm_model.p\"\n",
    "pickle.dump(model, open(save_model_path, \"wb\"))\n",
    "\n",
    "# Save the dataset\n",
    "save_data_path = output_data_folder_path + \"dataset.p\"\n",
    "pickle.dump([data_train, labels_train], open(save_data_path, \"wb\"))"
   ]
  },
  {
   "cell_type": "code",
   "execution_count": 7,
   "id": "75d2c015",
   "metadata": {
    "ExecuteTime": {
     "end_time": "2025-02-26T18:03:19.551151Z",
     "start_time": "2025-02-26T18:03:19.527838Z"
    }
   },
   "outputs": [
    {
     "name": "stdout",
     "output_type": "stream",
     "text": [
      "0.7948717948717948\n"
     ]
    }
   ],
   "source": [
    "output_data_folder_path = \"Label/All/\"\n",
    "output_model_folder_path = \"Model/\"\n",
    "\n",
    "load_model_path = output_model_folder_path + \"svm_model.p\"\n",
    "loaded_model = pickle.load(open(load_model_path, \"rb\"))\n",
    "\n",
    "load_data_path = output_data_folder_path + \"dataset.p\"\n",
    "dataset_X, dataset_y = pickle.load(open(load_data_path, \"rb\"))\n",
    "\n",
    "result = loaded_model.score(data_test, labels_test)\n",
    "\n",
    "print(result)"
   ]
  },
  {
   "cell_type": "code",
   "execution_count": 8,
   "id": "dc239abb",
   "metadata": {},
   "outputs": [
    {
     "name": "stdout",
     "output_type": "stream",
     "text": [
      "Test Precision Score: [0.79487179 1.        ]\n",
      "Test Recall Score: [1. 0.]\n"
     ]
    }
   ],
   "source": [
    "print(\"Test Precision Score:\", precision_score(labels_test, y_pred, average=None, zero_division=1))\n",
    "print(\"Test Recall Score:\", recall_score(labels_test, y_pred, average=None))"
   ]
  },
  {
   "cell_type": "code",
   "execution_count": 9,
   "id": "a9681aac",
   "metadata": {},
   "outputs": [
    {
     "name": "stdout",
     "output_type": "stream",
     "text": [
      "              precision    recall  f1-score   support\n",
      "\n",
      "    not spam       0.79      1.00      0.89        93\n",
      "        spam        nan      0.00      0.00        24\n",
      "\n",
      "    accuracy                           0.79       117\n",
      "   macro avg       0.79      0.50      0.44       117\n",
      "weighted avg       0.79      0.79      0.70       117\n",
      "\n"
     ]
    }
   ],
   "source": [
    "print(classification_report(labels_test, y_pred, target_names=['not spam', 'spam'], zero_division=np.nan))"
   ]
  },
  {
   "cell_type": "markdown",
   "id": "949c16a9",
   "metadata": {},
   "source": [
    "# Logistic Regression"
   ]
  },
  {
   "cell_type": "code",
   "execution_count": 10,
   "id": "10541efb",
   "metadata": {},
   "outputs": [],
   "source": [
    "from sklearn.linear_model import LogisticRegression\n",
    "from sklearn.metrics import accuracy_score"
   ]
  },
  {
   "cell_type": "code",
   "execution_count": 11,
   "id": "95faca8b",
   "metadata": {},
   "outputs": [],
   "source": [
    "clf = LogisticRegression(random_state=42).fit(data_train, labels_train)\n",
    "y_pred = clf.predict(data_test)"
   ]
  },
  {
   "cell_type": "code",
   "execution_count": 12,
   "id": "f8ac1b24",
   "metadata": {},
   "outputs": [
    {
     "name": "stdout",
     "output_type": "stream",
     "text": [
      "[0 0 0 0 0 0 0 0 0 0 0 0 0 0 0 0 0 0 0 0 0 0 0 0 0 0 0 0 0 0 0 0 0 0 0 0 0\n",
      " 0 0 0 0 0 0 0 0 0 0 0 0 0 0 0 0 0 0 0 0 0 0 0 0 0 0 0 0 0 0 0 0 0 0 0 0 0\n",
      " 0 0 0 0 0 0 0 0 0 0 0 0 0 0 0 0 0 0 0 0 0 0 0 0 0 0 0 0 0 0 0 0 0 0 0 0 0\n",
      " 0 0 0 0 0 0]\n"
     ]
    }
   ],
   "source": [
    "print(y_pred)"
   ]
  },
  {
   "cell_type": "code",
   "execution_count": 13,
   "id": "1b6153d5",
   "metadata": {},
   "outputs": [
    {
     "name": "stdout",
     "output_type": "stream",
     "text": [
      "0.7948717948717948\n"
     ]
    }
   ],
   "source": [
    "print(accuracy_score(labels_test, y_pred))"
   ]
  },
  {
   "cell_type": "code",
   "execution_count": 14,
   "id": "fd9da82d",
   "metadata": {},
   "outputs": [
    {
     "name": "stdout",
     "output_type": "stream",
     "text": [
      "Training accuracy: 0.7241379310344828\n",
      "Test accuracy: 0.7948717948717948\n"
     ]
    }
   ],
   "source": [
    "# Calculate and print the training accuracy\n",
    "train_accuracy = clf.score(data_train, labels_train)\n",
    "print(\"Training accuracy:\", train_accuracy)\n",
    "\n",
    "# Calculate test accuracy\n",
    "test_accuracy = clf.score(data_test, labels_test)\n",
    "print(\"Test accuracy:\", test_accuracy)"
   ]
  },
  {
   "cell_type": "code",
   "execution_count": 15,
   "id": "f170b1eb-00e6-4ad9-a3fb-3f5ddfdd66ff",
   "metadata": {},
   "outputs": [
    {
     "name": "stdout",
     "output_type": "stream",
     "text": [
      "              precision    recall  f1-score   support\n",
      "\n",
      "    not spam       0.79      1.00      0.89        93\n",
      "        spam        nan      0.00      0.00        24\n",
      "\n",
      "    accuracy                           0.79       117\n",
      "   macro avg       0.79      0.50      0.44       117\n",
      "weighted avg       0.79      0.79      0.70       117\n",
      "\n"
     ]
    }
   ],
   "source": [
    "print(classification_report(labels_test, y_pred, target_names=['not spam', 'spam'], zero_division=np.nan))"
   ]
  },
  {
   "cell_type": "markdown",
   "id": "e3743c23",
   "metadata": {},
   "source": [
    "# Random Forest"
   ]
  },
  {
   "cell_type": "code",
   "execution_count": 16,
   "id": "21140a36",
   "metadata": {},
   "outputs": [],
   "source": [
    "from sklearn.ensemble import RandomForestClassifier"
   ]
  },
  {
   "cell_type": "code",
   "execution_count": 17,
   "id": "f0652428",
   "metadata": {},
   "outputs": [],
   "source": [
    "rfc = RandomForestClassifier(max_depth=5, random_state=0)\n",
    "rfc.fit(data_train, labels_train)\n",
    "y_pred = rfc.predict(data_test)"
   ]
  },
  {
   "cell_type": "code",
   "execution_count": 18,
   "id": "bffe6abe",
   "metadata": {},
   "outputs": [
    {
     "name": "stdout",
     "output_type": "stream",
     "text": [
      "[0 0 0 0 0 0 0 0 0 0 0 0 0 0 0 0 0 0 0 0 0 0 0 0 0 0 0 0 0 0 0 0 0 0 0 0 0\n",
      " 0 0 0 0 0 0 0 0 0 0 0 0 0 0 0 0 0 0 0 0 0 0 0 0 0 0 0 0 0 0 0 0 0 0 0 0 0\n",
      " 0 0 0 0 0 0 0 0 0 0 0 0 0 0 0 0 0 0 0 0 0 0 0 0 0 0 0 0 0 0 0 0 0 0 0 0 0\n",
      " 0 0 0 0 0 0]\n"
     ]
    }
   ],
   "source": [
    "print(y_pred)"
   ]
  },
  {
   "cell_type": "code",
   "execution_count": 19,
   "id": "96d00b39",
   "metadata": {},
   "outputs": [
    {
     "name": "stdout",
     "output_type": "stream",
     "text": [
      "0.7948717948717948\n"
     ]
    }
   ],
   "source": [
    "print(accuracy_score(labels_test, y_pred))"
   ]
  },
  {
   "cell_type": "code",
   "execution_count": 20,
   "id": "b1ba4639",
   "metadata": {},
   "outputs": [
    {
     "name": "stdout",
     "output_type": "stream",
     "text": [
      "Training accuracy: 0.7607758620689655\n",
      "Test accuracy: 0.7948717948717948\n"
     ]
    }
   ],
   "source": [
    "# Calculate and print the training accuracy\n",
    "train_accuracy = rfc.score(data_train, labels_train)\n",
    "print(\"Training accuracy:\", train_accuracy)\n",
    "\n",
    "# Calculate test accuracy\n",
    "test_accuracy = rfc.score(data_test, labels_test)\n",
    "print(\"Test accuracy:\", test_accuracy)"
   ]
  },
  {
   "cell_type": "code",
   "execution_count": 21,
   "id": "3ad67c6c-f1a8-4a0c-8ad4-cafffeb75f74",
   "metadata": {},
   "outputs": [
    {
     "name": "stdout",
     "output_type": "stream",
     "text": [
      "              precision    recall  f1-score   support\n",
      "\n",
      "    not spam       0.79      1.00      0.89        93\n",
      "        spam        nan      0.00      0.00        24\n",
      "\n",
      "    accuracy                           0.79       117\n",
      "   macro avg       0.79      0.50      0.44       117\n",
      "weighted avg       0.79      0.79      0.70       117\n",
      "\n"
     ]
    }
   ],
   "source": [
    "print(classification_report(labels_test, y_pred, target_names=['not spam', 'spam'], zero_division=np.nan))"
   ]
  },
  {
   "cell_type": "markdown",
   "id": "86bc5edb",
   "metadata": {},
   "source": [
    "# Decision Tree"
   ]
  },
  {
   "cell_type": "code",
   "execution_count": 22,
   "id": "f1ac64e2",
   "metadata": {},
   "outputs": [],
   "source": [
    "from sklearn.tree import DecisionTreeClassifier"
   ]
  },
  {
   "cell_type": "code",
   "execution_count": 23,
   "id": "236a4993",
   "metadata": {},
   "outputs": [],
   "source": [
    "dtc = DecisionTreeClassifier(random_state=42)\n",
    "dtc.fit(data_train, labels_train)\n",
    "y_pred = dtc.predict(data_test)"
   ]
  },
  {
   "cell_type": "code",
   "execution_count": 24,
   "id": "439afd13",
   "metadata": {},
   "outputs": [
    {
     "name": "stdout",
     "output_type": "stream",
     "text": [
      "[1 0 0 0 1 0 0 1 1 0 1 0 0 0 0 1 0 0 0 0 1 0 0 1 1 1 0 0 0 0 0 0 0 0 0 0 0\n",
      " 0 1 0 0 0 0 0 0 0 1 0 0 1 1 0 0 0 1 0 0 1 1 0 0 0 0 0 0 0 0 1 0 0 0 0 0 0\n",
      " 1 1 0 0 1 0 1 0 0 0 0 0 0 0 0 0 0 0 0 1 0 0 1 1 0 1 0 1 0 1 0 0 0 0 0 0 0\n",
      " 0 0 0 0 0 0]\n"
     ]
    }
   ],
   "source": [
    "print(y_pred)"
   ]
  },
  {
   "cell_type": "code",
   "execution_count": 25,
   "id": "2a6f78b7",
   "metadata": {},
   "outputs": [
    {
     "name": "stdout",
     "output_type": "stream",
     "text": [
      "0.6581196581196581\n"
     ]
    }
   ],
   "source": [
    "print(accuracy_score(labels_test, y_pred))"
   ]
  },
  {
   "cell_type": "code",
   "execution_count": 26,
   "id": "7f7dff6e",
   "metadata": {},
   "outputs": [
    {
     "name": "stdout",
     "output_type": "stream",
     "text": [
      "Training accuracy: 1.0\n",
      "Test accuracy: 0.6581196581196581\n"
     ]
    }
   ],
   "source": [
    "# Calculate and print the training accuracy\n",
    "train_accuracy = dtc.score(data_train, labels_train)\n",
    "print(\"Training accuracy:\", train_accuracy)\n",
    "\n",
    "# Calculate test accuracy\n",
    "test_accuracy = dtc.score(data_test, labels_test)\n",
    "print(\"Test accuracy:\", test_accuracy)"
   ]
  },
  {
   "cell_type": "code",
   "execution_count": 27,
   "id": "89e87181",
   "metadata": {},
   "outputs": [
    {
     "name": "stdout",
     "output_type": "stream",
     "text": [
      "              precision    recall  f1-score   support\n",
      "\n",
      "    not spam       0.80      0.76      0.78        93\n",
      "        spam       0.21      0.25      0.23        24\n",
      "\n",
      "    accuracy                           0.66       117\n",
      "   macro avg       0.51      0.51      0.51       117\n",
      "weighted avg       0.68      0.66      0.67       117\n",
      "\n"
     ]
    }
   ],
   "source": [
    "print(classification_report(labels_test, y_pred, target_names=['not spam', 'spam'], zero_division=np.nan))"
   ]
  },
  {
   "cell_type": "code",
   "execution_count": null,
   "id": "25601062-b6a5-478a-8a1a-12c2ab6499ee",
   "metadata": {},
   "outputs": [],
   "source": []
  }
 ],
 "metadata": {
  "kernelspec": {
   "display_name": "Python 3 (ipykernel)",
   "language": "python",
   "name": "python3"
  },
  "language_info": {
   "codemirror_mode": {
    "name": "ipython",
    "version": 3
   },
   "file_extension": ".py",
   "mimetype": "text/x-python",
   "name": "python",
   "nbconvert_exporter": "python",
   "pygments_lexer": "ipython3",
   "version": "3.9.10"
  }
 },
 "nbformat": 4,
 "nbformat_minor": 5
}
